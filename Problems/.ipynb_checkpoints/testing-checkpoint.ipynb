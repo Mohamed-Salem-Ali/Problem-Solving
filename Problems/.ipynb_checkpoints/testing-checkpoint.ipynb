{
 "cells": [
  {
   "cell_type": "markdown",
   "id": "583af8ce-6097-4b40-ae48-83c22e4769b2",
   "metadata": {},
   "source": [
    "Example 1:\n",
    "Input: s = \"aabca\"\n",
    "Output: 3\n",
    "Explanation: The 3 palindromic subsequences of length 3 are:\n",
    "- \"aba\" (subsequence of \"aabca\")\n",
    "- \"aaa\" (subsequence of \"aabca\")\n",
    "- \"aca\" (subsequence of \"aabca\")\n",
    "\n",
    "\n",
    "Example 2:\n",
    "Input: s = \"adc\"\n",
    "Output: 0\n",
    "Explanation: There are no palindromic subsequences of length 3 in \"adc\".\n",
    "\n",
    "Example 3:\n",
    "Input: s = \"bbcbaba\"\n",
    "Output: 4\n",
    "Explanation: The 4 palindromic subsequences of length 3 are:\n",
    "- \"bbb\" (subsequence of \"bbcbaba\")\n",
    "- \"bcb\" (subsequence of \"bbcbaba\")\n",
    "- \"bab\" (subsequence of \"bbcbaba\")\n",
    "- \"aba\" (subsequence of \"bbcbaba\")"
   ]
  },
  {
   "cell_type": "code",
   "execution_count": 29,
   "id": "37f6482c-2ffd-4170-a5cc-dabd7b96593b",
   "metadata": {},
   "outputs": [
    {
     "name": "stdout",
     "output_type": "stream",
     "text": [
      "['bbb', 'bbbbc', 'bbbbccb', 'bbbbccbba', 'bbbbccbbaab', 'bbb', 'bbbbc', 'bbbbccb', 'bbbbccbba', 'bbbbccbbaab', 'cbb', 'cbbbc', 'cbbbccb', 'cbbbccbba', 'cbbbccbbaab', 'bbb', 'bbbbc', 'bbbbccb', 'bbbbccbba', 'bbbbccbbaab', 'abb', 'abbbc', 'abbbccb', 'abbbccbba', 'abbbccbbaab']\n"
     ]
    }
   ],
   "source": [
    "s = \"bbcbaba\"\n",
    "output=[]\n",
    "L = len(s)\n",
    "for i in range(L-2):\n",
    "    temp = \"\"\n",
    "    temp += s[i]\n",
    "    for j in range(L-2):\n",
    "        temp += s[j]\n",
    "        temp += s[j+1]\n",
    "        output.append(temp)\n",
    "        temp = \"\"\n",
    "print(output)"
   ]
  },
  {
   "cell_type": "code",
   "execution_count": null,
   "id": "174ac9da-dd50-4195-aaae-53c6f358309f",
   "metadata": {},
   "outputs": [],
   "source": [
    "s=\"abcd\" i 0,2\n",
    "i i+1 i+2 \n",
    "i i+2 i+3\n",
    "i i+3 i+4"
   ]
  }
 ],
 "metadata": {
  "kernelspec": {
   "display_name": "Python 3 (ipykernel)",
   "language": "python",
   "name": "python3"
  },
  "language_info": {
   "codemirror_mode": {
    "name": "ipython",
    "version": 3
   },
   "file_extension": ".py",
   "mimetype": "text/x-python",
   "name": "python",
   "nbconvert_exporter": "python",
   "pygments_lexer": "ipython3",
   "version": "3.12.6"
  }
 },
 "nbformat": 4,
 "nbformat_minor": 5
}
