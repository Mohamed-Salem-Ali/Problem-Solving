{
 "cells": [
  {
   "cell_type": "markdown",
   "id": "53c6916a-3d5f-413a-9151-c2b524214cae",
   "metadata": {},
   "source": [
    "Symbol       Value\n",
    "I             1\n",
    "V             5\n",
    "X             10\n",
    "L             50\n",
    "C             100\n",
    "D             500\n",
    "M             1000\n",
    "IV            4\n",
    "IX            9\n",
    "XL            40\n",
    "XC            90\n",
    "CD            400\n",
    "CM            900\n",
    "\n",
    "\n",
    "For example, 2 is written as II in Roman numeral, just two ones added together. 12 is written as XII, which is simply X + II. The number 27 is written as XXVII, which is XX + V + II.\n",
    "\n",
    "\n",
    "Roman numerals are usually written largest to smallest from left to right. However, the numeral for four is not IIII. Instead, the number four is written as IV. Because the one is before the five we subtract it making four. The same principle applies to the number nine, which is written as IX. There are six instances where subtraction is used:\n",
    "\n",
    "\n",
    "\n",
    "I can be placed before V (5) and X (10) to make 4 and 9. \n",
    "X can be placed before L (50) and C (100) to make 40 and 90. \n",
    "C can be placed before D (500) and M (1000) to make 400 and 900."
   ]
  },
  {
   "cell_type": "code",
   "execution_count": 15,
   "id": "e7df6d4e-821c-40bf-9f4d-fd1b3edd6bfd",
   "metadata": {},
   "outputs": [
    {
     "data": {
      "text/plain": [
       "10"
      ]
     },
     "execution_count": 15,
     "metadata": {},
     "output_type": "execute_result"
    }
   ],
   "source": [
    "s='XXVII'\n",
    "words={'I':1,'V':5,'X':10,'L':50,'C':100,'D':500,'M':1000,'IV':4,'IX':9,'XL':40,'XC':90,'CD':400,'CM':900}\n",
    "words['X']\n",
    "s2=\"IV\"\n",
    "if(i==0):\n",
    "        count+=words[s[0]]\n",
    "    else:\n",
    "        temp=\"\"\n",
    "        if s[i] in ['X','V']:\n",
    "            if s[i-1] =='I':"
   ]
  },
  {
   "cell_type": "code",
   "execution_count": 43,
   "id": "9bc96aae-0b80-4678-affe-d487674b2d48",
   "metadata": {},
   "outputs": [
    {
     "name": "stdout",
     "output_type": "stream",
     "text": [
      "0\n"
     ]
    }
   ],
   "source": [
    "s=\"X\"\n",
    "count=0\n",
    "for i in range(len(s)):\n",
    "    if s[i]=='I'and i!=len(s)-1:\n",
    "        if s[i+1]==\"V\":\n",
    "            count+=words[\"IV\"]\n",
    "        elif s[i+1]==\"X\":\n",
    "            count += words[\"IX\"]\n",
    "        else:\n",
    "            count+=words[s[i]]\n",
    "    elif s[i]=='X' and i!=len(s)-1:\n",
    "        if s[i+1]==\"L\":\n",
    "            count+=words[\"XL\"]\n",
    "        elif s[i+1]==\"C\":\n",
    "            count += words[\"XC\"]\n",
    "        else:\n",
    "            count+=words[s[i]]\n",
    "    elif s[i]=='C' and i!=len(s)-1:\n",
    "        if s[i+1]==\"D\":\n",
    "            count+=words[\"CD\"]\n",
    "        elif s[i+1]==\"M\":\n",
    "            count += words[\"CM\"]\n",
    "        else:\n",
    "            count+=words[s[i]]\n",
    "    elif s[i]=='D' or s[i]=='M':\n",
    "        if s[i-1]=='C'and i!=0:\n",
    "            continue\n",
    "        else:\n",
    "            count+=words[s[i]]\n",
    "    elif s[i]=='C' or s[i]=='L':\n",
    "        if s[i-1]=='X'and i!=0:\n",
    "            continue\n",
    "        else:\n",
    "            count+=words[s[i]]\n",
    "    elif s[i]=='X' or s[i]=='V': \n",
    "        if s[i-1]=='I'and i!=0:\n",
    "            continue\n",
    "        else:\n",
    "            count+=words[s[i]]\n",
    "    else:\n",
    "        count+=words[s[i]]\n",
    "print(count)        "
   ]
  },
  {
   "cell_type": "code",
   "execution_count": 38,
   "id": "1457e441-44c4-44e6-88cc-00f32f4a332e",
   "metadata": {},
   "outputs": [],
   "source": [
    "x=[1,1,1,1]\n",
    "y={'x':1,'u':2}"
   ]
  },
  {
   "cell_type": "code",
   "execution_count": 39,
   "id": "c99a617c-34fd-4e5b-bd4b-607771e75fd0",
   "metadata": {},
   "outputs": [
    {
     "data": {
      "text/plain": [
       "1"
      ]
     },
     "execution_count": 39,
     "metadata": {},
     "output_type": "execute_result"
    }
   ],
   "source": [
    "len(s)-1"
   ]
  },
  {
   "cell_type": "code",
   "execution_count": null,
   "id": "42cc5df5-acd5-4023-b2f7-ba3d4d2c6202",
   "metadata": {},
   "outputs": [],
   "source": [
    "1 + 3 \n",
    "1 + 8\n"
   ]
  }
 ],
 "metadata": {
  "kernelspec": {
   "display_name": "Python 3 (ipykernel)",
   "language": "python",
   "name": "python3"
  },
  "language_info": {
   "codemirror_mode": {
    "name": "ipython",
    "version": 3
   },
   "file_extension": ".py",
   "mimetype": "text/x-python",
   "name": "python",
   "nbconvert_exporter": "python",
   "pygments_lexer": "ipython3",
   "version": "3.12.6"
  }
 },
 "nbformat": 4,
 "nbformat_minor": 5
}
