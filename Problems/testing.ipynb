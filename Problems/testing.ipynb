{
 "cells": [
  {
   "cell_type": "markdown",
   "id": "583af8ce-6097-4b40-ae48-83c22e4769b2",
   "metadata": {},
   "source": [
    "Example 1:\n",
    "Input: s = \"aabca\"\n",
    "Output: 3\n",
    "Explanation: The 3 palindromic subsequences of length 3 are:\n",
    "- \"aba\" (subsequence of \"aabca\")\n",
    "- \"aaa\" (subsequence of \"aabca\")\n",
    "- \"aca\" (subsequence of \"aabca\")\n",
    "\n",
    "\n",
    "Example 2:\n",
    "Input: s = \"adc\"\n",
    "Output: 0\n",
    "Explanation: There are no palindromic subsequences of length 3 in \"adc\".\n",
    "\n",
    "Example 3:\n",
    "Input: s = \"bbcbaba\"\n",
    "Output: 4\n",
    "Explanation: The 4 palindromic subsequences of length 3 are:\n",
    "- \"bbb\" (subsequence of \"bbcbaba\")\n",
    "- \"bcb\" (subsequence of \"bbcbaba\")\n",
    "- \"bab\" (subsequence of \"bbcbaba\")\n",
    "- \"aba\" (subsequence of \"bbcbaba\")"
   ]
  },
  {
   "cell_type": "code",
   "execution_count": 35,
   "id": "37f6482c-2ffd-4170-a5cc-dabd7b96593b",
   "metadata": {},
   "outputs": [
    {
     "name": "stdout",
     "output_type": "stream",
     "text": [
      "['bbb', 'bbc', 'bcb', 'bba', 'bab', 'bbb', 'bbc', 'bcb', 'bba', 'bab', 'cbb', 'cbc', 'ccb', 'cba', 'cab', 'bbb', 'bbc', 'bcb', 'bba', 'bab', 'abb', 'abc', 'acb', 'aba', 'aab']\n"
     ]
    }
   ],
   "source": [
    "s = \"bbcbaba\"\n",
    "output=[]\n",
    "L = len(s)\n",
    "for i in range(L-2):\n",
    "    for j in range(L-2):\n",
    "        temp += s[i]\n",
    "        temp += s[j]\n",
    "        temp += s[j+1]\n",
    "        output.append(temp)\n",
    "        temp = \"\"\n",
    "print(output)"
   ]
  },
  {
   "cell_type": "code",
   "execution_count": 36,
   "id": "174ac9da-dd50-4195-aaae-53c6f358309f",
   "metadata": {},
   "outputs": [
    {
     "data": {
      "text/plain": [
       "97"
      ]
     },
     "execution_count": 36,
     "metadata": {},
     "output_type": "execute_result"
    }
   ],
   "source": [
    "ord('a')"
   ]
  },
  {
   "cell_type": "code",
   "execution_count": 63,
   "id": "3b650839-0e14-40dc-b3b7-c96e58cf71ed",
   "metadata": {},
   "outputs": [
    {
     "name": "stdout",
     "output_type": "stream",
     "text": [
      "3\n"
     ]
    }
   ],
   "source": [
    "s=\"abaab\"\n",
    "l = set(s)\n",
    "counter=0\n",
    "for x in l:\n",
    "    left=s.index(x)\n",
    "    right=s.rindex(x)\n",
    "    b=set()\n",
    "    if left != right:b\n",
    "        b=set(s[left+1:right])\n",
    "    counter+=len(b)\n",
    "print(counter)"
   ]
  },
  {
   "cell_type": "code",
   "execution_count": null,
   "id": "52242ade-06c8-4468-beb7-e5f1bb743c20",
   "metadata": {},
   "outputs": [],
   "source": [
    "555\n",
    "ms\n",
    "Beats\n",
    "55.60%\n",
    "95\n",
    "ms\n",
    "Beats\n",
    "88.79%"
   ]
  },
  {
   "cell_type": "markdown",
   "id": "5eb3272e-529c-4bbf-a9a9-8df6cb827397",
   "metadata": {},
   "source": [
    "# 5/1/2025 \n"
   ]
  },
  {
   "cell_type": "markdown",
   "id": "fd8b6aa3-383c-49ee-a739-e5cc6a51a167",
   "metadata": {},
   "source": [
    "Example 1:\n",
    "\n",
    "Input: s = \"abc\", shifts = [[0,1,0],[1,2,1],[0,2,1]]\n",
    "Output: \"ace\"\n",
    "Explanation: Firstly, shift the characters from index 0 to index 1 backward. Now s = \"zac\".\n",
    "Secondly, shift the characters from index 1 to index 2 forward. Now s = \"zbd\".\n",
    "Finally, shift the characters from index 0 to index 2 forward. Now s = \"ace\".\n",
    "\n",
    "Example 2:\n",
    "\n",
    "Input: s = \"dztz\", shifts = [[0,0,0],[1,1,1]]\n",
    "Output: \"catz\"\n",
    "Explanation: Firstly, shift the characters from index 0 to index 0 backward. Now s = \"cztz\".\n",
    "Finally, shift the characters from index 1 to index 1 forward. Now s = \"catz\"."
   ]
  },
  {
   "cell_type": "code",
   "execution_count": 27,
   "id": "7b422f5f-dafb-40e7-8590-459f8e2b79c0",
   "metadata": {},
   "outputs": [],
   "source": [
    "s = \"abc\"\n",
    "chr(20)\n",
    "shifts = [[0,1,0],[1,2,1],[0,2,1]]\n",
    "letters={'a':0,'b':1,'c':2,'d':3,'e':4,'f':5,'g':6,'h':7,'i':8,'j':9,'k':10,'l':11,'m':12,'n':13,'o':14,'p':15,'q':16,'r':17,'s':18,'t':19,'u':20,'v':21,'w':22,'x':23,'y':24,'z':25}"
   ]
  },
  {
   "cell_type": "markdown",
   "id": "b92b177b-fec2-4d13-acb2-122c6e9a88a7",
   "metadata": {},
   "source": [
    "ord()-1==96 ==> z\n",
    "\n",
    "ord()+1==123 ==> a"
   ]
  },
  {
   "cell_type": "code",
   "execution_count": 57,
   "id": "c03fada0-ea86-4810-a0aa-d1180d543f61",
   "metadata": {},
   "outputs": [
    {
     "data": {
      "text/plain": [
       "1"
      ]
     },
     "execution_count": 57,
     "metadata": {},
     "output_type": "execute_result"
    }
   ],
   "source": [
    "p=\"zac\"\n",
    "shifts = [[1,2,1]]\n",
    "s=list(p)\n",
    "for x in shifts:\n",
    "    f=s[x[0]:x[1]+1]\n",
    "x[2]"
   ]
  },
  {
   "cell_type": "code",
   "execution_count": 67,
   "id": "8ee7986a-31d3-4c77-abc0-d06c40c968c8",
   "metadata": {},
   "outputs": [
    {
     "name": "stdout",
     "output_type": "stream",
     "text": [
      "['c', 'a', 't', 'z']\n"
     ]
    }
   ],
   "source": [
    "p=\"dztz\"\n",
    "shifts = [[0,0,0],[1,1,1]]\n",
    "s=list(p)\n",
    "for x in shifts:\n",
    "    if x[2]==0:\n",
    "        for i in range(x[0],x[1]+1):\n",
    "            index= ord(s[i])-1\n",
    "            if index == 96:\n",
    "                s[i]='z'\n",
    "            else:\n",
    "                s[i]=chr(index)\n",
    "    if x[2]==1:\n",
    "        for i in range(x[0],x[1]+1):\n",
    "            index= ord(s[i])+1\n",
    "            if index == 123:\n",
    "                s[i]='a'\n",
    "            else:\n",
    "                s[i]=chr(index)\n",
    "print(s)"
   ]
  },
  {
   "cell_type": "code",
   "execution_count": 30,
   "id": "73fcab4b-fd95-4658-b913-b97ebf5345c7",
   "metadata": {},
   "outputs": [
    {
     "data": {
      "text/plain": [
       "'`'"
      ]
     },
     "execution_count": 30,
     "metadata": {},
     "output_type": "execute_result"
    }
   ],
   "source": [
    "chr(ord('a')-1)"
   ]
  },
  {
   "cell_type": "code",
   "execution_count": 35,
   "id": "3dc896da-c909-4b04-9d30-1d60686b2d8b",
   "metadata": {},
   "outputs": [
    {
     "data": {
      "text/plain": [
       "'bbc'"
      ]
     },
     "execution_count": 35,
     "metadata": {},
     "output_type": "execute_result"
    }
   ],
   "source": [
    "q=\"abc\"\n",
    "q='b'+q[1:]\n",
    "q"
   ]
  },
  {
   "cell_type": "code",
   "execution_count": 58,
   "id": "085988ca-25b3-45d2-911e-40c1071be2ab",
   "metadata": {},
   "outputs": [],
   "source": [
    "l=[1,2,2,3,3,3,4,3]"
   ]
  },
  {
   "cell_type": "code",
   "execution_count": 62,
   "id": "2f540f99-749d-48f7-a802-162e367706c8",
   "metadata": {},
   "outputs": [
    {
     "data": {
      "text/plain": [
       "[1, 2, 3, 4, 4, 3, 4, 3]"
      ]
     },
     "execution_count": 62,
     "metadata": {},
     "output_type": "execute_result"
    }
   ],
   "source": [
    "x=[2,4,1]\n",
    "for i in range(x[0],x[1]+1):\n",
    "    l[i]=l[i]+1\n",
    "l"
   ]
  },
  {
   "cell_type": "code",
   "execution_count": 81,
   "id": "e082a635-87be-43ec-9308-6a398b862a2c",
   "metadata": {},
   "outputs": [
    {
     "data": {
      "text/plain": [
       "[0, 1, 1, -2]"
      ]
     },
     "execution_count": 81,
     "metadata": {},
     "output_type": "execute_result"
    }
   ],
   "source": [
    "s=\"abc\"\n",
    "shifts = [[0,1,0],[1,2,1],[0,2,1]]\n",
    "values=[0]*(len(s)+1)\n",
    "for x in shifts:\n",
    "    start,end,direction = x\n",
    "    if direction == 0:\n",
    "        values[start]-=1\n",
    "        values[end+1]+=1\n",
    "    if direction == 1:\n",
    "        values[start]+=1\n",
    "        values[end+1]-=1\n",
    "values"
   ]
  },
  {
   "cell_type": "markdown",
   "id": "4a915030-2288-49b9-969c-dd04251427ed",
   "metadata": {},
   "source": [
    "# Jumana & Younes\n",
    "## Time limit exceed"
   ]
  },
  {
   "cell_type": "code",
   "execution_count": null,
   "id": "48ecc5f8-90b7-4da7-880b-654f0b588c17",
   "metadata": {},
   "outputs": [],
   "source": [
    "s=list(s)\n",
    "for x in shifts:\n",
    "    if x[2]==0:\n",
    "        for i in range(x[0],x[1]+1):\n",
    "            index= ord(s[i])-1\n",
    "            if index == 96:\n",
    "                s[i]='z'\n",
    "            else:\n",
    "                s[i]=chr(index)\n",
    "    if x[2]==1:\n",
    "        for i in range(x[0],x[1]+1):\n",
    "            index= ord(s[i])+1\n",
    "            if index == 123:\n",
    "                s[i]='a'\n",
    "            else:\n",
    "                s[i]=chr(index)\n",
    "s = ''.join(s)\n"
   ]
  },
  {
   "cell_type": "markdown",
   "id": "fd9dbe8c-92e3-438c-8c5e-2a1ad5b3102b",
   "metadata": {},
   "source": [
    "Input: boxes = \"001011\"\n",
    "\n",
    "Output: [11,8,5,4,3,4]"
   ]
  },
  {
   "cell_type": "code",
   "execution_count": 22,
   "id": "ee6c0b9d-8e82-4df3-b58f-46d1e7f6fabc",
   "metadata": {},
   "outputs": [
    {
     "data": {
      "text/plain": [
       "['', '', '1', '11']"
      ]
     },
     "execution_count": 22,
     "metadata": {},
     "output_type": "execute_result"
    }
   ],
   "source": [
    "boxes=\"001011\""
   ]
  },
  {
   "cell_type": "code",
   "execution_count": 39,
   "id": "4d1307c0-671a-41f5-a52f-d2e68bb73c27",
   "metadata": {},
   "outputs": [
    {
     "data": {
      "text/plain": [
       "[11, 8, 5, 4, 3, 4]"
      ]
     },
     "execution_count": 39,
     "metadata": {},
     "output_type": "execute_result"
    }
   ],
   "source": [
    "boxes=\"001011\"\n",
    "output=[]\n",
    "for i in range(len(boxes)):\n",
    "    value=0\n",
    "    for j in range(len(boxes)):\n",
    "        if i!=j :\n",
    "            if boxes[j]=='1':\n",
    "                value+=abs(j-i)\n",
    "    output.append(value)\n",
    "output   "
   ]
  },
  {
   "cell_type": "code",
   "execution_count": 41,
   "id": "e1539579-08cc-4c5e-b918-a5145beda52b",
   "metadata": {},
   "outputs": [
    {
     "data": {
      "text/plain": [
       "[11, 8, 5, 4, 3, 4]"
      ]
     },
     "execution_count": 41,
     "metadata": {},
     "output_type": "execute_result"
    }
   ],
   "source": [
    "boxes=\"001011\"\n",
    "indices=[]\n",
    "output=[]\n",
    "for i in range(len(boxes)):\n",
    "    if boxes[i]=='1':\n",
    "        indices.append(i)\n",
    "for j in range(len(boxes)):\n",
    "    s=0\n",
    "    for k in indices:\n",
    "        s+=abs(j-k)\n",
    "    output.append(s)\n",
    "output"
   ]
  },
  {
   "cell_type": "code",
   "execution_count": 1,
   "id": "aae32215-9588-40b5-ad57-5da7e2845ef4",
   "metadata": {},
   "outputs": [
    {
     "data": {
      "text/plain": [
       "True"
      ]
     },
     "execution_count": 1,
     "metadata": {},
     "output_type": "execute_result"
    }
   ],
   "source": [
    "x =[\"a\",\"aa\",\"aaa\",\"aaaa\",\"aaaaa\"]\n",
    "x[0] in x[1]"
   ]
  },
  {
   "cell_type": "code",
   "execution_count": 16,
   "id": "228a046e-1c66-46c3-ba1b-079770dd5272",
   "metadata": {},
   "outputs": [
    {
     "data": {
      "text/plain": [
       "['a', 'aa', 'aaa', 'aaaa']"
      ]
     },
     "execution_count": 16,
     "metadata": {},
     "output_type": "execute_result"
    }
   ],
   "source": [
    "ans=[]\n",
    "x=[\"a\",\"aa\",\"aaa\",\"aaaa\",\"aaaaa\"]\n",
    "for i in range(len(x)):\n",
    "    for j in range(len(x)):\n",
    "        if x[i] in x[j] and i!=j:\n",
    "            if x[i] not in ans:\n",
    "                ans.append(x[i])\n",
    "ans"
   ]
  },
  {
   "cell_type": "code",
   "execution_count": null,
   "id": "4848d41a-23fa-40cb-bb1e-9ab4c0e77a9e",
   "metadata": {},
   "outputs": [],
   "source": []
  }
 ],
 "metadata": {
  "kernelspec": {
   "display_name": "Python 3 (ipykernel)",
   "language": "python",
   "name": "python3"
  },
  "language_info": {
   "codemirror_mode": {
    "name": "ipython",
    "version": 3
   },
   "file_extension": ".py",
   "mimetype": "text/x-python",
   "name": "python",
   "nbconvert_exporter": "python",
   "pygments_lexer": "ipython3",
   "version": "3.12.6"
  }
 },
 "nbformat": 4,
 "nbformat_minor": 5
}
